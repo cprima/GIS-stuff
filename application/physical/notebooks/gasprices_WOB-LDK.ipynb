{
 "cells": [
  {
   "cell_type": "code",
   "execution_count": 1,
   "metadata": {
    "collapsed": false,
    "deletable": true,
    "editable": true
   },
   "outputs": [],
   "source": [
    "%matplotlib inline\n",
    "\n",
    "import gpxpy\n",
    "import json\n",
    "import os\n",
    "import psycopg2\n",
    "from socket import gethostname\n",
    "\n",
    "import requests\n",
    "import time\n",
    "\n",
    "import matplotlib as mpl\n",
    "import matplotlib.pyplot as plt\n",
    "import seaborn as sns\n",
    "plt.style.use('bmh')\n",
    "\n",
    "from shapely.geometry import Point,LineString,Polygon\n",
    "import pandas as pd\n",
    "import geopandas as gpd\n",
    "from geopandas import GeoSeries, GeoDataFrame\n",
    "\n",
    "import requests\n",
    "import time\n",
    "\n",
    "from ipywidgets import widgets\n",
    "\n",
    "data_dir = \"../../../data/\"\n",
    "deg2km = 111\n",
    "crs_default={'init': 'epsg:4326'}\n",
    "hostname = gethostname()"
   ]
  },
  {
   "cell_type": "code",
   "execution_count": 2,
   "metadata": {
    "collapsed": false,
    "deletable": true,
    "editable": true
   },
   "outputs": [
    {
     "name": "stdout",
     "output_type": "stream",
     "text": [
      "6\n"
     ]
    }
   ],
   "source": [
    "with open(os.path.join(\"./config.json\")) as f:\n",
    "    config = json.load(f)\n",
    "conn = psycopg2.connect(**config['db'][hostname])\n",
    "config['db'][hostname]['user']     = '********'\n",
    "config['db'][hostname]['password'] = '********'\n",
    "\n",
    "config['buffer'] = 2\n",
    "def f(x):\n",
    "    config['buffer'] = x\n",
    "    print(x)\n",
    "# http://ipywidgets.readthedocs.io/en/stable/user_install.html\n",
    "widgets.interact(f, x=widgets.IntSlider(min=1,max=11,step=1,value=6));\n"
   ]
  },
  {
   "cell_type": "code",
   "execution_count": 3,
   "metadata": {
    "collapsed": true,
    "deletable": true,
    "editable": true
   },
   "outputs": [],
   "source": [
    "dataframe_gasstations = pd.read_sql_query('select * from \"gas_station\"',con=conn)\n",
    "# https://cambridgespark.com/content/tutorials/geopandas/index.html\n",
    "geometry = [Point(xy) for xy in zip(dataframe_gasstations.lng, dataframe_gasstations.lat)]\n",
    "geodataframe_stations = gpd.GeoDataFrame(dataframe_gasstations, crs=crs_default, geometry=geometry)\n",
    "conn.close()"
   ]
  },
  {
   "cell_type": "code",
   "execution_count": 4,
   "metadata": {
    "collapsed": false,
    "deletable": true,
    "editable": true
   },
   "outputs": [],
   "source": [
    "gpx_file = open(data_dir+'WOB-LDK.gpx', 'r')\n",
    "gpx_file_parsed = gpxpy.parse(gpx_file)\n",
    "# create a Pandas DataFrame as a starter\n",
    "list_gpx_data = []\n",
    "for track in gpx_file_parsed.tracks:\n",
    "    for segment in track.segments:\n",
    "        for point in segment.points:\n",
    "            list_gpx_data.append([point.longitude, point.latitude])\n",
    "columns = ['Longitude', 'Latitude']\n",
    "dataframe_track = pd.DataFrame(list_gpx_data, columns=columns)\n",
    "\n",
    "line_track = LineString(list_gpx_data)\n",
    "line_track_buffered = line_track.buffer(config['buffer']/deg2km)\n",
    "\n",
    "geodataframe_track_buffered = gpd.GeoDataFrame.from_dict(list_gpx_data)\n",
    "\n",
    "import shapely.wkt\n",
    "from shapely.geometry import Point\n",
    "# Now create a GeoPandas DataFrame from it\n",
    "#https://gis.stackexchange.com/a/174168/87254 et al\n",
    "geodataframe_track = gpd.GeoDataFrame(dataframe_track.drop(['Longitude', 'Latitude'], axis=1),\n",
    "                       crs={'init': 'epsg:4326'},\n",
    "                       geometry=dataframe_track.apply(lambda row: shapely.geometry.Point((row.Longitude, row.Latitude)), axis=1))\n",
    "\n",
    "#bufferedpolygon_track = geodataframe_track.unary_union.buffer(config['buffer']/deg2km)"
   ]
  },
  {
   "cell_type": "code",
   "execution_count": 5,
   "metadata": {
    "collapsed": false,
    "deletable": true,
    "editable": true
   },
   "outputs": [],
   "source": [
    "stations_in_vincinity = []\n",
    "\n",
    "for index, row in geodataframe_stations.iterrows():\n",
    "    #print(row)\n",
    "    if row.geometry.within(line_track_buffered):\n",
    "        #print(row[\"id\"], row[\"place\"])\n",
    "        stations_in_vincinity.append(row)"
   ]
  },
  {
   "cell_type": "code",
   "execution_count": 6,
   "metadata": {
    "collapsed": false,
    "deletable": true,
    "editable": true
   },
   "outputs": [
    {
     "name": "stdout",
     "output_type": "stream",
     "text": [
      ".......................\n",
      "......................."
     ]
    }
   ],
   "source": [
    "#http://stackoverflow.com/a/9671301\n",
    "chunks = [stations_in_vincinity[x:x+10] for x in range(0, len(stations_in_vincinity), 10)]\n",
    "print(\".\" * len(chunks), end=\"\\n\")\n",
    "\n",
    "parameters2 = []\n",
    "for chunk in range(len(chunks)):\n",
    "    somedict2 = {}\n",
    "    somelist2 = []\n",
    "    somedict2['apikey'] = config[\"tk\"][\"apikey\"]\n",
    "    for station in range(len(chunks[chunk])):\n",
    "        somelist2.append(chunks[chunk][station]['id'])\n",
    "    somedict2['ids'] = \",\".join(somelist2)\n",
    "    parameters2.append(somedict2)\n",
    "#print(parameters2)\n",
    "responses = []\n",
    "url='https://creativecommons.tankerkoenig.de/json/prices.php'\n",
    "for each in parameters2:\n",
    "    response = requests.get(url, params=each)\n",
    "    if (response.status_code != 200):\n",
    "        print(\"Attention! Status code is {}.\".format(response.status_code))\n",
    "    data = response.json()\n",
    "    responses.append(data)\n",
    "    print(\".\", end=\"\")\n",
    "    time.sleep(4)"
   ]
  },
  {
   "cell_type": "code",
   "execution_count": 7,
   "metadata": {
    "collapsed": true,
    "deletable": true,
    "editable": true
   },
   "outputs": [],
   "source": [
    "import numpy as np\n",
    "\n",
    "valid_responses = {}\n",
    "#for response in range(len(responses)):\n",
    "for response in range(len(responses)):\n",
    "    #print(responses[response])\n",
    "    for chunk in range(len(responses[response])):\n",
    "        #print(responses[response]['prices'], \"....\", chunk)\n",
    "        for index, row in responses[response]['prices'].items():\n",
    "            #print(responses[response]['prices'][index])\n",
    "            if responses[response]['prices'][index]['status'] == 'open':\n",
    "                #valid_responses.append(responses[response]['prices'][index])\n",
    "                valid_responses[index] = responses[response]['prices'][index]\n",
    "\n",
    "#\n",
    "dataframe_stations_in_vincinity = pd.DataFrame(stations_in_vincinity)\n",
    "dataframe_stations_in_vincinity = dataframe_stations_in_vincinity.set_index('id')\n",
    "\n",
    "dataframe_stations_valid_responses = pd.DataFrame(valid_responses)\n",
    "dataframe_stations_valid_responses = dataframe_stations_valid_responses.T"
   ]
  },
  {
   "cell_type": "code",
   "execution_count": 8,
   "metadata": {
    "collapsed": false,
    "deletable": true,
    "editable": true
   },
   "outputs": [],
   "source": [
    "dataframe_analysis = pd.concat([dataframe_stations_in_vincinity, dataframe_stations_valid_responses], axis=1)\n",
    "dataframe_analysis[['diesel', 'e5', 'e10']] = dataframe_analysis[['diesel', 'e5', 'e10']].astype(float)\n",
    "dataframe_analysis.diesel = dataframe_analysis.diesel.replace({ 0 : np.nan })\n",
    "dataframe_analysis.e5 = dataframe_analysis.e5.replace({ 0 : np.nan })\n",
    "dataframe_analysis.e10 = dataframe_analysis.e10.replace({ 0 : np.nan })\n",
    "\n",
    "dataframe_analysis = dataframe_analysis[dataframe_analysis['e5'] > 0]\n",
    "\n",
    "#dataframe_analysis.describe()\n",
    "#dataframe_analysis.columns.values\n",
    "\n",
    "# https://stackoverflow.com/a/28577480\n",
    "# cols_to_norm = ['diesel','e10', 'e5']\n",
    "dataframe_analysis[['diesel_norm','e10_norm', 'e5_norm']] = dataframe_analysis[['diesel','e10', 'e5']].apply(lambda x: (x - x.min()) / (x.max() - x.min()))\n"
   ]
  },
  {
   "cell_type": "code",
   "execution_count": null,
   "metadata": {
    "collapsed": false,
    "deletable": true,
    "editable": true
   },
   "outputs": [],
   "source": [
    "dataframe_analysis[['diesel', 'e10', 'e5', 'diesel_norm', 'e10_norm', 'e5_norm']].describe()"
   ]
  },
  {
   "cell_type": "code",
   "execution_count": 9,
   "metadata": {
    "collapsed": false,
    "deletable": true,
    "editable": true
   },
   "outputs": [],
   "source": [
    "geometry = [Point(xy) for xy in zip(dataframe_analysis.lng, dataframe_analysis.lat)]\n",
    "geodataframe_analysis = gpd.GeoDataFrame(dataframe_analysis[['name', 'brand', 'post_code', 'place', 'lat', 'lng', 'diesel', 'e10', 'e5','diesel_norm', 'e10_norm', 'e5_norm', 'status', 'geometry']], crs=crs_default, geometry=geometry)\n",
    "\n"
   ]
  },
  {
   "cell_type": "code",
   "execution_count": 10,
   "metadata": {
    "collapsed": false,
    "deletable": true,
    "editable": true
   },
   "outputs": [
    {
     "data": {
      "text/plain": [
       "<matplotlib.axes._subplots.AxesSubplot at 0x7f0db04d3780>"
      ]
     },
     "execution_count": 10,
     "metadata": {},
     "output_type": "execute_result"
    },
    {
     "data": {
      "image/png": "[encoded data removed]",
      "text/plain": [
       "<matplotlib.figure.Figure at 0x7f0db090cd68>"
      ]
     },
     "metadata": {},
     "output_type": "display_data"
    }
   ],
   "source": [
    "geodataframe_analysis.plot(column='e5', cmap='brg_r', markersize=8)"
   ]
  },
  {
   "cell_type": "code",
   "execution_count": null,
   "metadata": {
    "collapsed": true,
    "deletable": true,
    "editable": true
   },
   "outputs": [],
   "source": [
    "import folium\n",
    "from folium.plugins import MarkerCluster, HeatMap"
   ]
  },
  {
   "cell_type": "code",
   "execution_count": null,
   "metadata": {
    "collapsed": true,
    "deletable": true,
    "editable": true
   },
   "outputs": [],
   "source": [
    "map = folium.Map([52, 8.4],\n",
    "                  zoom_start=7,\n",
    "                  tiles='cartodbpositron')\n",
    "\n",
    "maxe5 = dataframe_analysis['e5_norm'].max()\n",
    "\n",
    "#marker_cluster = MarkerCluster().add_to(map)\n",
    "#for index, row in dataframe_analysis.iterrows():\n",
    "#    #print(row.geometry)\n",
    "#    folium.Marker([row.lat, row.lng],popup=row.name+': '+str(row.e5)).add_to(marker_cluster)\n",
    "#\n",
    "#points = folium.features.GeoJson(gjson)\n",
    "#map.add_child(points)\n",
    "\n",
    "stationArr = dataframe_analysis[['lat', 'lng', 'e5_norm']].values.tolist()\n",
    "hm_wide = HeatMap( stationArr, \n",
    "                   min_opacity=0.0,\n",
    "                   radius=12, blur=12, \n",
    "                   max_zoom=9,\n",
    "                   gradient={0.0: 'green', 0.5: 'yellow', 1: 'red'}\n",
    "                 )\n",
    "map.add_child(hm_wide)\n",
    "\n",
    "# map"
   ]
  },
  {
   "cell_type": "code",
   "execution_count": null,
   "metadata": {
    "collapsed": true,
    "deletable": true,
    "editable": true
   },
   "outputs": [],
   "source": []
  },
  {
   "cell_type": "code",
   "execution_count": null,
   "metadata": {
    "collapsed": true,
    "deletable": true,
    "editable": true
   },
   "outputs": [],
   "source": []
  },
  {
   "cell_type": "code",
   "execution_count": null,
   "metadata": {
    "collapsed": true,
    "deletable": true,
    "editable": true
   },
   "outputs": [],
   "source": []
  },
  {
   "cell_type": "code",
   "execution_count": null,
   "metadata": {
    "collapsed": true,
    "deletable": true,
    "editable": true
   },
   "outputs": [],
   "source": []
  },
  {
   "cell_type": "code",
   "execution_count": null,
   "metadata": {
    "collapsed": true,
    "deletable": true,
    "editable": true
   },
   "outputs": [],
   "source": []
  },
  {
   "cell_type": "code",
   "execution_count": null,
   "metadata": {
    "collapsed": true,
    "deletable": true,
    "editable": true
   },
   "outputs": [],
   "source": []
  },
  {
   "cell_type": "code",
   "execution_count": null,
   "metadata": {
    "collapsed": true,
    "deletable": true,
    "editable": true
   },
   "outputs": [],
   "source": []
  },
  {
   "cell_type": "code",
   "execution_count": null,
   "metadata": {
    "collapsed": true,
    "deletable": true,
    "editable": true
   },
   "outputs": [],
   "source": []
  }
 ],
 "metadata": {
  "kernelspec": {
   "display_name": "Python 3",
   "language": "python",
   "name": "python3"
  },
  "language_info": {
   "codemirror_mode": {
    "name": "ipython",
    "version": 3
   },
   "file_extension": ".py",
   "mimetype": "text/x-python",
   "name": "python",
   "nbconvert_exporter": "python",
   "pygments_lexer": "ipython3",
   "version": "3.5.2"
  },
  "widgets": {
   "state": {
    "4d0f6e71274b4921a431ba3bdd76e14a": {
     "views": [
      {
       "cell_index": 1
      }
     ]
    }
   },
   "version": "1.2.0"
  }
 },
 "nbformat": 4,
 "nbformat_minor": 2
}
