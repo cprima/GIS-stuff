{
 "cells": [
  {
   "cell_type": "markdown",
   "metadata": {},
   "source": [
    "# Mr Jornet's First Ascend to Everest\n",
    "\n",
    "The question was how close the GPX track from the Strava activity https://www.strava.com/activities/1022238076 got to the summit of Mt. Everest.\n",
    "This repository holds the gpx track, downloaded with the bookmarklet from https://mapstogpx.com/strava/ and this notebook does some processing on it.\n",
    "\n",
    "## TL;DR\n",
    "\n",
    "With [WGS84](https://en.wikipedia.org/wiki/World_Geodetic_System) and distance calculation by [pyproj.Geod.inv](https://jswhit.github.io/pyproj/pyproj.Geod-class.html#inv) the calculated distance is 54 meters."
   ]
  },
  {
   "cell_type": "code",
   "execution_count": 1,
   "metadata": {
    "collapsed": true
   },
   "outputs": [],
   "source": [
    "%matplotlib inline\n",
    "\n",
    "import gpxpy #.parser as parser\n",
    "from pandas import DataFrame\n",
    "import geopandas as gpd\n",
    "import shapely.wkt\n",
    "from shapely.geometry import Point\n",
    "\n",
    "import matplotlib as mpl\n",
    "import matplotlib.pyplot as plt\n",
    "import seaborn as sns\n",
    "plt.style.use('bmh')"
   ]
  },
  {
   "cell_type": "code",
   "execution_count": 2,
   "metadata": {
    "collapsed": true
   },
   "outputs": [],
   "source": [
    "gpx_file = open('../../../data//strava_full_activities-1022238076.gpx', 'r')\n",
    "\n",
    "gpx = gpxpy.parse(gpx_file)"
   ]
  },
  {
   "cell_type": "code",
   "execution_count": 3,
   "metadata": {},
   "outputs": [
    {
     "data": {
      "text/html": [
       "<div>\n",
       "<style>\n",
       "    .dataframe thead tr:only-child th {\n",
       "        text-align: right;\n",
       "    }\n",
       "\n",
       "    .dataframe thead th {\n",
       "        text-align: left;\n",
       "    }\n",
       "\n",
       "    .dataframe tbody tr th {\n",
       "        vertical-align: top;\n",
       "    }\n",
       "</style>\n",
       "<table border=\"1\" class=\"dataframe\">\n",
       "  <thead>\n",
       "    <tr style=\"text-align: right;\">\n",
       "      <th></th>\n",
       "      <th>Longitude</th>\n",
       "      <th>Latitude</th>\n",
       "      <th>Altitude</th>\n",
       "      <th>Time</th>\n",
       "      <th>Name</th>\n",
       "    </tr>\n",
       "  </thead>\n",
       "  <tbody>\n",
       "    <tr>\n",
       "      <th>0</th>\n",
       "      <td>86.854822</td>\n",
       "      <td>28.135588</td>\n",
       "      <td>5238.0</td>\n",
       "      <td>2017-12-05 06:36:16</td>\n",
       "      <td>TP00001</td>\n",
       "    </tr>\n",
       "    <tr>\n",
       "      <th>1</th>\n",
       "      <td>86.854848</td>\n",
       "      <td>28.135583</td>\n",
       "      <td>5238.0</td>\n",
       "      <td>2017-12-05 06:36:18</td>\n",
       "      <td>TP00002</td>\n",
       "    </tr>\n",
       "    <tr>\n",
       "      <th>2</th>\n",
       "      <td>86.854874</td>\n",
       "      <td>28.135580</td>\n",
       "      <td>5238.0</td>\n",
       "      <td>2017-12-05 06:36:20</td>\n",
       "      <td>TP00003</td>\n",
       "    </tr>\n",
       "    <tr>\n",
       "      <th>3</th>\n",
       "      <td>86.854892</td>\n",
       "      <td>28.135571</td>\n",
       "      <td>5238.0</td>\n",
       "      <td>2017-12-05 06:36:22</td>\n",
       "      <td>TP00004</td>\n",
       "    </tr>\n",
       "    <tr>\n",
       "      <th>4</th>\n",
       "      <td>86.854934</td>\n",
       "      <td>28.135575</td>\n",
       "      <td>5238.0</td>\n",
       "      <td>2017-12-05 06:36:24</td>\n",
       "      <td>TP00005</td>\n",
       "    </tr>\n",
       "  </tbody>\n",
       "</table>\n",
       "</div>"
      ],
      "text/plain": [
       "   Longitude   Latitude  Altitude                Time     Name\n",
       "0  86.854822  28.135588    5238.0 2017-12-05 06:36:16  TP00001\n",
       "1  86.854848  28.135583    5238.0 2017-12-05 06:36:18  TP00002\n",
       "2  86.854874  28.135580    5238.0 2017-12-05 06:36:20  TP00003\n",
       "3  86.854892  28.135571    5238.0 2017-12-05 06:36:22  TP00004\n",
       "4  86.854934  28.135575    5238.0 2017-12-05 06:36:24  TP00005"
      ]
     },
     "execution_count": 3,
     "metadata": {},
     "output_type": "execute_result"
    }
   ],
   "source": [
    "# create a Pandas DataFrame as a starter\n",
    "data = []\n",
    "for track in gpx.tracks:\n",
    "    for segment in track.segments:\n",
    "        for point in segment.points:\n",
    "            data.append([point.longitude, point.latitude, point.elevation, point.time, point.name])\n",
    "columns = ['Longitude', 'Latitude', 'Altitude', 'Time', 'Name']\n",
    "\n",
    "df = DataFrame(data, columns=columns)\n",
    "\n",
    "df.head()"
   ]
  },
  {
   "cell_type": "code",
   "execution_count": 4,
   "metadata": {},
   "outputs": [
    {
     "data": {
      "text/html": [
       "<div>\n",
       "<style>\n",
       "    .dataframe thead tr:only-child th {\n",
       "        text-align: right;\n",
       "    }\n",
       "\n",
       "    .dataframe thead th {\n",
       "        text-align: left;\n",
       "    }\n",
       "\n",
       "    .dataframe tbody tr th {\n",
       "        vertical-align: top;\n",
       "    }\n",
       "</style>\n",
       "<table border=\"1\" class=\"dataframe\">\n",
       "  <thead>\n",
       "    <tr style=\"text-align: right;\">\n",
       "      <th></th>\n",
       "      <th>Altitude</th>\n",
       "      <th>Time</th>\n",
       "      <th>Name</th>\n",
       "      <th>geometry</th>\n",
       "    </tr>\n",
       "  </thead>\n",
       "  <tbody>\n",
       "    <tr>\n",
       "      <th>0</th>\n",
       "      <td>5238.0</td>\n",
       "      <td>2017-12-05 06:36:16</td>\n",
       "      <td>TP00001</td>\n",
       "      <td>POINT (86.854822 28.135588)</td>\n",
       "    </tr>\n",
       "    <tr>\n",
       "      <th>1</th>\n",
       "      <td>5238.0</td>\n",
       "      <td>2017-12-05 06:36:18</td>\n",
       "      <td>TP00002</td>\n",
       "      <td>POINT (86.854848 28.135583)</td>\n",
       "    </tr>\n",
       "    <tr>\n",
       "      <th>2</th>\n",
       "      <td>5238.0</td>\n",
       "      <td>2017-12-05 06:36:20</td>\n",
       "      <td>TP00003</td>\n",
       "      <td>POINT (86.854874 28.13558)</td>\n",
       "    </tr>\n",
       "    <tr>\n",
       "      <th>3</th>\n",
       "      <td>5238.0</td>\n",
       "      <td>2017-12-05 06:36:22</td>\n",
       "      <td>TP00004</td>\n",
       "      <td>POINT (86.85489200000001 28.135571)</td>\n",
       "    </tr>\n",
       "    <tr>\n",
       "      <th>4</th>\n",
       "      <td>5238.0</td>\n",
       "      <td>2017-12-05 06:36:24</td>\n",
       "      <td>TP00005</td>\n",
       "      <td>POINT (86.854934 28.135575)</td>\n",
       "    </tr>\n",
       "  </tbody>\n",
       "</table>\n",
       "</div>"
      ],
      "text/plain": [
       "   Altitude                Time     Name                             geometry\n",
       "0    5238.0 2017-12-05 06:36:16  TP00001          POINT (86.854822 28.135588)\n",
       "1    5238.0 2017-12-05 06:36:18  TP00002          POINT (86.854848 28.135583)\n",
       "2    5238.0 2017-12-05 06:36:20  TP00003           POINT (86.854874 28.13558)\n",
       "3    5238.0 2017-12-05 06:36:22  TP00004  POINT (86.85489200000001 28.135571)\n",
       "4    5238.0 2017-12-05 06:36:24  TP00005          POINT (86.854934 28.135575)"
      ]
     },
     "execution_count": 4,
     "metadata": {},
     "output_type": "execute_result"
    }
   ],
   "source": [
    "# Now create a GeoPandas DataFrame from it\n",
    "#https://gis.stackexchange.com/a/174168/87254 et al\n",
    "gdf = gpd.GeoDataFrame(df.drop(['Longitude', 'Latitude'], axis=1),\n",
    "                       crs={'init': 'epsg:4326'},\n",
    "                       geometry=df.apply(lambda row: shapely.geometry.Point((row.Longitude, row.Latitude)), axis=1))\n",
    "gdf.head()"
   ]
  },
  {
   "cell_type": "code",
   "execution_count": 5,
   "metadata": {},
   "outputs": [
    {
     "data": {
      "text/plain": [
       "<matplotlib.axes._subplots.AxesSubplot at 0xe392630>"
      ]
     },
     "execution_count": 5,
     "metadata": {},
     "output_type": "execute_result"
    },
    {
     "data": {
      "image/png": "[encoded data removed]",
      "text/plain": [
       "<matplotlib.figure.Figure at 0xe2edef0>"
      ]
     },
     "metadata": {},
     "output_type": "display_data"
    }
   ],
   "source": [
    "gdf.plot()"
   ]
  },
  {
   "cell_type": "code",
   "execution_count": 6,
   "metadata": {
    "collapsed": true
   },
   "outputs": [],
   "source": [
    "from shapely.ops import nearest_points\n",
    "gdfmp = gdf.unary_union\n",
    "everest = Point(86.925278, 27.988056)\n",
    "\n",
    "nearestpoints = nearest_points(everest, gdfmp)"
   ]
  },
  {
   "cell_type": "code",
   "execution_count": 7,
   "metadata": {},
   "outputs": [
    {
     "name": "stdout",
     "output_type": "stream",
     "text": [
      "The nearest points are located  54.4735 meters from each other.\n"
     ]
    }
   ],
   "source": [
    "import pyproj\n",
    "geod = pyproj.Geod(ellps='WGS84')\n",
    "angle1,angle2,distance = geod.inv(nearestpoints[0].x, nearestpoints[0].y, nearestpoints[1].x, nearestpoints[1].y)\n",
    "print(\"The nearest points are located {0:8.4f} meters from each other.\".format(distance))"
   ]
  },
  {
   "cell_type": "markdown",
   "metadata": {},
   "source": [
    "## appendix\n",
    "\n",
    "Not sure if a more local CRS would bring a much different result, but my morning train commutes comes to an end.\n",
    "https://gis.stackexchange.com/questions/126546/transformation-parameters-for-everest-datum-to-wgs84 might hold the next step.\n"
   ]
  }
 ],
 "metadata": {
  "kernelspec": {
   "display_name": "Python [conda root]",
   "language": "python",
   "name": "conda-root-py"
  },
  "language_info": {
   "codemirror_mode": {
    "name": "ipython",
    "version": 3
   },
   "file_extension": ".py",
   "mimetype": "text/x-python",
   "name": "python",
   "nbconvert_exporter": "python",
   "pygments_lexer": "ipython3",
   "version": "3.6.2"
  }
 },
 "nbformat": 4,
 "nbformat_minor": 2
}
